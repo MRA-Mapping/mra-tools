{
 "cells": [
  {
   "cell_type": "markdown",
   "metadata": {},
   "source": [
    "## Welcome to your notebook.\n"
   ]
  },
  {
   "cell_type": "markdown",
   "metadata": {
    "heading_collapsed": true
   },
   "source": [
    "#### Boilerplate and function defs"
   ]
  },
  {
   "cell_type": "code",
   "execution_count": 12,
   "metadata": {
    "hidden": true
   },
   "outputs": [],
   "source": [
    "from arcgis.gis import GIS\n",
    "#gis = GIS(\"home\")\n",
    "#gis = GIS()\n",
    "#TAKE CARE TO NOT COMMIT THE PASSWORD WHILE IN DEVELOPMENT\n",
    "gis = GIS(\"https://msar.maps.arcgis.com\", \"MRA_Admin\", \"PASSWORD\") "
   ]
  },
  {
   "cell_type": "code",
   "execution_count": 13,
   "metadata": {
    "hidden": true
   },
   "outputs": [],
   "source": [
    "MRA_DEF_PARS={'idx_field':'Incident_UUID', 'date_field':'Incident_Date', 'team_field':'Team'}\n",
    "OES_DEF_PARS={'idx_field':'Incident_UUID', 'date_field':'Date', 'team_field':'Team'}\n",
    "\n",
    "def _get_feature_(featureset,idx,val):\n",
    "    \"\"\"Get feature(s) that match specific value index\"\"\"\n",
    "    return [feature for feature in featureset.features if feature.as_dict['attributes'][idx] == val]\n",
    "\n",
    "def _get_features_(featureset, idx, vals):\n",
    "    \"\"\"Get feature(s) that match a list of values for an index\"\"\"\n",
    "    return[feature for feature in featureset.features if feature.as_dict['attributes'][idx] in vals ]\n",
    "\n",
    "def _get_geom_(feature):\n",
    "    pass\n",
    "\n",
    "\n",
    "##featureset accessors \n",
    "__feature_geom = lambda f: f.geom\n",
    "__feature_attrs = lambda f: f.as_dict['attributes']\n",
    "__features = lambda fs: fs.features\n",
    "\n",
    "def _get_attr_(feature,idx):\n",
    "    \"\"\"get value of an attribute for a feature\"\"\"\n",
    "    return __feature_attrs(feature).get(idx) \n",
    "\n",
    "def _get_attrs_(featureset, idx):\n",
    "    \"\"\"Get values for an attribute in a featureset\"\"\"\n",
    "    return[__feature_attrs(feature).get(idx) for feature in __features(featureset)]\n",
    "\n",
    "def _get_unique_attrs_(featureset, idx):\n",
    "    \"\"\"Get all unique values of an attribute in a featureset\"\"\"\n",
    "    return set(_get_attrs_(featureset,idx=idx))\n",
    "\n",
    "\n",
    "_nulchk_attr = lambda x: '' in x or None in x\n",
    "_dupchk_attr = lambda x: len(x) > len(set(x))\n",
    "\n",
    "def _check(s,tests):\n",
    "    for test in tests.values():\n",
    "        yield test(s)\n",
    "        \n",
    "\n",
    "def check_incidents(s, idx_field=\"Incident_UUID\",date_field='Incident_Date', team_field=\"Team\", **kwargs):\n",
    "    \"\"\"Sanity Check a feature set and return a structured record\n",
    "\n",
    "    s  - incidents (FeatureSet) to check\n",
    "    \n",
    "    0: duplicates T/F- True if there are Duplicates\n",
    "    1: NULL UUIDs T/F - True if there are Null or empty Incident UUIDS\n",
    "    \"\"\"\n",
    "    \n",
    "    incident_tests = {\"Null Test\":_nulchk_attr,\n",
    "                      \"Duplicate Test\": _dupchk_attr,\n",
    "                     }\n",
    "    attrs = _get_attrs_(s,idx_field)\n",
    "  \n",
    "    return (_ for _ in _check(attrs,incident_tests))\n",
    "    \n",
    "def check_points(s, idx_field=\"Linked_Incident_UUID\",date_field='Linked_Incident_Date', team_field=\"Linked_Team\", **kwargs):\n",
    "    \"\"\"Sanity Check a feature set and return a structured record\n",
    "\n",
    "    s  - points (FeatureSet) to check\n",
    "        \n",
    "    0: duplicates T/F- True if there are Duplicates\n",
    "    1: NULL UUIDs T/F - True if there are Null or empty Incident UUIDS\n",
    "    \"\"\"\n",
    "    points_tests = {\"Null Test\":_nulchk_attr,\n",
    "                      \"Duplicate Test\": _dupchk_attr,\n",
    "                     }\n",
    "    attrs = _get_attrs_(s,idx_field)\n",
    "  \n",
    "    return (_ for _ in _check(attrs,points_tests))\n",
    "    \n",
    "def cmp_incidents(s1,s2, idx_fields=(\"Incident_UUID\",\"Incident_UUID\",),date_fields=('Incident_Date','Date',), team_fields=(\"Team\",\"Team\",)):\n",
    "    \"\"\"Compare FeatureSets of incidents and return a structured record\n",
    "    \n",
    "    s1,s2 incidents (FeatureSets) to compare\n",
    "    idx_field = field for index, can be a list of two elements if s1,s2 index field different.\n",
    "    date_field = field for index, can be a list of two elements if s1,s2 index field different.\n",
    "    team_field = field for index, can be a list of two elements if s1,s2 index field different.\n",
    "    \n",
    "    returned record structure/tuple:\n",
    "    idx: test/type - Comment\n",
    "    \n",
    "    0: len_check/bool - len(s1)==len(s2)\n",
    "    1: intersect/int  - number of features in intersection of s1,s2 by idx_field\n",
    "    2: date_match/int - number of features in intersection of s1,s2 where dates match\n",
    "    3: team_match/int - number of features in intersection of s1,s2 where the team names match\n",
    "    4: point_match/int - number of features for all \n",
    "    \"\"\"\n",
    "    \n",
    "    len_check = len(s1)==len(s2)\n",
    "    \n",
    "    s1_idxs = _get_unique_attrs_(s1, idx_fields[0])\n",
    "    s2_idxs = _get_unique_attrs_(s2, idx_fields[1])\n",
    "    \n",
    "    isect = s1_idxs.intersection(s2_idxs)\n",
    "    len_isect = len(isect)\n",
    "    \n",
    "    s1_ftrs = _get_features_(s1,idx_fields[0], isect)\n",
    "    s2_ftrs = _get_features_(s2,idx_fields[1], isect)\n",
    "    \n",
    "    date_match = 0\n",
    "    team_match = 0\n",
    "    point_match = 0\n",
    "    for feature in s1_ftrs:\n",
    "        s2_feature, = _get_feature_(s2,idx_fields[1], _get_attr_(feature,idx_fields[0]))\n",
    "        #print(feature, s2_feature)\n",
    "        if s2_feature:\n",
    "            \n",
    "            if _get_attr_(feature, date_fields[0]) == _get_attr_(s2_feature, date_fields[1]):\n",
    "                date_match = date_match+1\n",
    "\n",
    "            if _get_attr_(feature, team_fields[0]) == _get_attr_(s2_feature, team_fields[1]):\n",
    "                team_match = team_match+1\n",
    "                \n",
    "    return len_check, len_isect, date_match, team_match, point_match\n",
    "\n",
    "                \n",
    "                \n",
    "                \n",
    "                \n",
    "                \n",
    "            \n",
    "    \n",
    "    \n",
    "    \n",
    "    \n",
    "    \n",
    "    \n",
    "    \n",
    "    "
   ]
  },
  {
   "cell_type": "markdown",
   "metadata": {},
   "source": [
    "#### Open Feature Service and assign layers"
   ]
  },
  {
   "cell_type": "code",
   "execution_count": 14,
   "metadata": {},
   "outputs": [
    {
     "name": "stdout",
     "output_type": "stream",
     "text": [
      "<FeatureLayer url:\"https://services2.arcgis.com/4VBZFeVR0gsH4uni/arcgis/rest/services/service_f68bc5c1f6754915a3a1d3b7fe6250c3/FeatureServer/0\">\n",
      "<FeatureLayer url:\"https://services2.arcgis.com/4VBZFeVR0gsH4uni/arcgis/rest/services/service_f68bc5c1f6754915a3a1d3b7fe6250c3/FeatureServer/1\">\n",
      "<FeatureLayer url:\"https://services7.arcgis.com/H5U07wt7zxKpGqGJ/arcgis/rest/services/service_1bb1a4ee0e3e44aa80f291638e359a30/FeatureServer/0\">\n",
      "<FeatureLayer url:\"https://services7.arcgis.com/H5U07wt7zxKpGqGJ/arcgis/rest/services/service_1bb1a4ee0e3e44aa80f291638e359a30/FeatureServer/1\">\n"
     ]
    }
   ],
   "source": [
    "# Item Added From Toolbar\n",
    "# Title: MRA Mission Data 3 - 653325 | Type: Feature Service | Owner: MRA_Admin\n",
    "item = gis.content.get(\"ceea424c2f2149c38f1cb3be46653325\")\n",
    "oes = gis.content.get(\"4fe1f4dd817c4f44a993c748e0080437\")\n",
    "\n",
    "#Load Layers\n",
    "for layer in item.layers:\n",
    "    print(layer)\n",
    "    \n",
    "for layer in oes.layers:\n",
    "    print(layer)\n",
    "    \n",
    "incidents = item.layers[0]\n",
    "points_found = item.layers[1]\n",
    "\n",
    "oes_incidents = oes.layers[0]\n",
    "oes_points = oes.layers[1]"
   ]
  },
  {
   "cell_type": "markdown",
   "metadata": {},
   "source": [
    "#### June 19 2022 Upload Validation"
   ]
  },
  {
   "cell_type": "code",
   "execution_count": 16,
   "metadata": {},
   "outputs": [],
   "source": [
    "#Open UUIDS\n",
    "#dataset = open('/arcgis/home/CalOES_2H21_IncidentUUIDS.txt')\n",
    "\n",
    "###Construct select query \n",
    "# where Incident_UUID in ('uuid-1', 'uuid2',...))\n",
    "#select_query_str=\"Incident_UUID IN (\"+ ','.join(['\\''+str(_[:-1])+'\\'' for _ in dataset])+\")\"\n",
    "\n",
    "# where year(Incident_Date = 2021)\n",
    "select_query_str2=\"Incident_Date >= '2021-01-01 00:00:00' AND Incident_Date <= '2021-12-31 12:59:59'\"\n",
    "select_query_str3=\"Date >= '2021-01-01 00:00:00' AND Date <= '2021-12-31 12:59:59' AND MRA_Team IS NOT NULL\"\n",
    "\n",
    "\n",
    "#select on mra dataset\n",
    "#missions = incidents.query(where = select_query_str)\n",
    "missions = incidents.query(where = select_query_str2)\n",
    "\n",
    "#select on oes dataset\n",
    "#oes_missions = oes.layers[0].query(where=select_query_str)\n",
    "oes_missions = oes.layers[0].query(where=select_query_str3)"
   ]
  },
  {
   "cell_type": "code",
   "execution_count": 17,
   "metadata": {},
   "outputs": [
    {
     "name": "stdout",
     "output_type": "stream",
     "text": [
      "Quality Verification of OES to MRA Merge for 2021 data executed 6/19/2022\n",
      "\n",
      "Incident_UUIDS are provided externally in '/arcgis/home/CalOES_2H21_IncidentUUIDS.txt'\n",
      "\n",
      "selected features in ceea424c2f2149c38f1cb3be46653325 (MRA) : 2440\n",
      "selected features in 4fe1f4dd817c4f44a993c748e0080437 (OES) : 688\n",
      "\n",
      "check mra dataset:::\n",
      "Duplicate Entries in MRA Feature: False\n",
      "Null/empty Incident ID's in MRA Features: True\n",
      "\n",
      "check oes dataset:::\n",
      "Duplicate Entries in oes Feature: False\n",
      "Null/empty Incident ID's in oes Features: False\n",
      "\n",
      "compare mra dataset to oes dataset:::\n",
      "The two datasets Match: False\n",
      "The number of records in both sets (by Incident_UUID) are: 670\n",
      "The number of records where the Date matches are: 670\n",
      "The number of records where the Team Name matches are: 670\n",
      "The number of records where the Geometry matches are: 0** (not yet implemeted)\n",
      "\n"
     ]
    }
   ],
   "source": [
    "print(\"\"\"Quality Verification of OES to MRA Merge for 2021 data executed 6/19/2022\n",
    "\n",
    "Incident_UUIDS are provided externally in '/arcgis/home/CalOES_2H21_IncidentUUIDS.txt'\n",
    "\n",
    "selected features in ceea424c2f2149c38f1cb3be46653325 (MRA) : {n_missions}\n",
    "selected features in 4fe1f4dd817c4f44a993c748e0080437 (OES) : {n_oes}\n",
    "\n",
    "check mra dataset:::\n",
    "Duplicate Entries in MRA Feature: {ci_m[0]}\n",
    "Null/empty Incident ID's in MRA Features: {ci_m[1]}\n",
    "\n",
    "check oes dataset:::\n",
    "Duplicate Entries in oes Feature: {ci_o[0]}\n",
    "Null/empty Incident ID's in oes Features: {ci_o[1]}\n",
    "\n",
    "compare mra dataset to oes dataset:::\n",
    "The two datasets Match: {cmp_[0]}\n",
    "The number of records in both sets (by Incident_UUID) are: {cmp_[1]}\n",
    "The number of records where the Date matches are: {cmp_[2]}\n",
    "The number of records where the Team Name matches are: {cmp_[3]}\n",
    "The number of records where the Geometry matches are: {cmp_[4]}** (not yet implemeted)\n",
    "\"\"\".format( \n",
    "        n_missions=len(missions),\n",
    "        n_oes=len(oes_missions), \n",
    "        ci_m=[_ for _ in check_incidents(missions)],\n",
    "        ci_o=[_ for _ in check_incidents(oes_missions)],\n",
    "        cmp_=cmp_incidents(missions,oes_missions)\n",
    "))"
   ]
  },
  {
   "cell_type": "code",
   "execution_count": 20,
   "metadata": {},
   "outputs": [
    {
     "data": {
      "text/plain": [
       "{\"geometry\": {\"x\": -105.3821, \"y\": 39.0899, \"spatialReference\": {\"wkid\": 4326, \"latestWkid\": 4326}}, \"attributes\": {\"objectid\": 667, \"globalid\": \"f336d434-f8aa-46fb-8098-ac5634e709d9\", \"Form_Version\": \"3.0.0-MRA\", \"Team\": \"Park_County_SAR\", \"Team_Not_Listed\": null, \"Region\": \"Rocky Mountain Region\", \"Home_County\": \"Park County - Colorado\", \"Incident_UUID\": \"d2e7442c-7c22-4f67-b738-3e44e32b200f\", \"Incident_Number\": \"051021 Matukat Stranded Motorist\", \"Mutual_Aid\": \"NO\", \"Mutual_Aid_Number\": null, \"Lead_Agency\": null, \"Incident_Type\": \"RESCUE\", \"Training_Type\": null, \"Accidental_Transmitter\": null, \"Incident_Date\": 1620662400000, \"Operational_Periods\": 1, \"Primary_Area\": \"YES\", \"Number_Volunteers\": 2, \"Total_Hours\": 10, \"Mileage\": 160, \"Total_Paid_Hours\": 0, \"Aircraft_Used\": null, \"Aircraft_Hours\": null, \"Hoist_Used\": null, \"Area_Type\": \"RURAL\", \"Area_Type_Other\": null, \"Land_Ownership\": \"NATIONAL_FOREST\", \"Land_Ownership_Other\": null, \"Number_Subjects\": 1, \"Subject_Category\": \"CAMPING\", \"Subject_Category_Other\": null, \"Age_Sub_1\": 50, \"Gender_Sub_1\": \"MALE\", \"Fitness_Sub_1\": \"POOR\", \"Experience_Sub_1\": \"FAIR\", \"Mental_Factor_Sub_1\": null, \"Mental_Rating_Sub_1\": null, \"Age_Sub_2\": null, \"Gender_Sub_2\": null, \"Fitness_Sub_2\": null, \"Experience_Sub_2\": null, \"Mental_Factor_Sub_2\": null, \"Mental_Rating_Sub_2\": null, \"Age_Sub_3\": null, \"Gender_Sub_3\": null, \"Fitness_Sub_3\": null, \"Experience_Sub_3\": null, \"Mental_Factor_Sub_3\": null, \"Mental_Rating_Sub_3\": null, \"Age_Sub_4\": null, \"Gender_Sub_4\": null, \"Fitness_Sub_4\": null, \"Experience_Sub_4\": null, \"Mental_Factor_Sub_4\": null, \"Mental_Rating_Sub_4\": null, \"Age_Sub_5\": null, \"Gender_Sub_5\": null, \"Fitness_Sub_5\": null, \"Experience_Sub_5\": null, \"Mental_Factor_Sub_5\": null, \"Mental_Rating_Sub_5\": null, \"Group_Specifics\": null, \"Number_Sub_Well\": 1, \"Number_Sub_Ill_Injured\": 0, \"Number_Sub_DOA\": 0, \"Number_Sub_Not_Found\": 0, \"Number_Found_Locations\": null, \"Point_Found_count\": null, \"Level_of_Care_Subject\": null, \"Medical_Problems_Subject\": null, \"Medical_Problems_Other_Subject\": null, \"Number_Tm_Injured\": 0, \"Level_of_Care_Rescuer\": null, \"Medical_Problems_Team_Member\": null, \"Medical_Problems_Other_Team_Member\": null, \"Medical_Provider\": null, \"Medical_Provider_Other\": null, \"Comments\": \"Subject was car camping off FSR 211E and got car stuck on a rock.  Subject attempted to free car for two days but called for rescue on 5/10/21 due to low food and water and pending inclement weather.  SAR members helped subject free car from rock and followed subject back to CR77.\", \"CreationDate\": 1623088648659, \"Creator\": \"H97153Hub\", \"EditDate\": 1646894532461, \"Editor\": \"MRA_Admin\"}}"
      ]
     },
     "execution_count": 20,
     "metadata": {},
     "output_type": "execute_result"
    }
   ],
   "source": []
  },
  {
   "cell_type": "code",
   "execution_count": null,
   "metadata": {},
   "outputs": [],
   "source": []
  }
 ],
 "metadata": {
  "esriNotebookRuntime": {
   "notebookRuntimeName": "ArcGIS Notebook Python 3 Standard",
   "notebookRuntimeVersion": "6.0"
  },
  "kernelspec": {
   "display_name": "Python 3 (ipykernel)",
   "language": "python",
   "name": "python3"
  },
  "language_info": {
   "codemirror_mode": {
    "name": "ipython",
    "version": 3
   },
   "file_extension": ".py",
   "mimetype": "text/x-python",
   "name": "python",
   "nbconvert_exporter": "python",
   "pygments_lexer": "ipython3",
   "version": "3.8.10"
  }
 },
 "nbformat": 4,
 "nbformat_minor": 2
}

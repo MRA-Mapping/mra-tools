{
 "cells": [
  {
   "cell_type": "code",
   "execution_count": null,
   "id": "8c74e9b2",
   "metadata": {},
   "outputs": [],
   "source": [
    "import mratools"
   ]
  },
  {
   "cell_type": "code",
   "execution_count": null,
   "id": "7da4b009",
   "metadata": {},
   "outputs": [],
   "source": [
    "from .. import mratools"
   ]
  },
  {
   "cell_type": "code",
   "execution_count": null,
   "id": "829d75fa",
   "metadata": {},
   "outputs": [],
   "source": [
    "import ..mratools"
   ]
  },
  {
   "cell_type": "code",
   "execution_count": null,
   "id": "c53cec70",
   "metadata": {},
   "outputs": [],
   "source": [
    "import mratools"
   ]
  },
  {
   "cell_type": "code",
   "execution_count": null,
   "id": "f9d277e2",
   "metadata": {},
   "outputs": [],
   "source": [
    "mratools.chec"
   ]
  }
 ],
 "metadata": {
  "kernelspec": {
   "display_name": "Python 3 (ipykernel)",
   "language": "python",
   "name": "python3"
  },
  "language_info": {
   "codemirror_mode": {
    "name": "ipython",
    "version": 3
   },
   "file_extension": ".py",
   "mimetype": "text/x-python",
   "name": "python",
   "nbconvert_exporter": "python",
   "pygments_lexer": "ipython3",
   "version": "3.8.10"
  }
 },
 "nbformat": 4,
 "nbformat_minor": 5
}

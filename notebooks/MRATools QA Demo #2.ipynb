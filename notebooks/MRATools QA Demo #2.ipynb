{
 "cells": [
  {
   "cell_type": "code",
   "execution_count": null,
   "id": "890ebddf",
   "metadata": {},
   "outputs": [],
   "source": [
    "## THis is the second demo script using mra tools for testing library but manually sequenced tests\n",
    "\n",
    "from arcgis.gis import GIS\n",
    "from mratools import check_incidents, cmp_incidents, _get_attrs_\n",
    "#gis = GIS(\"home\")\n",
    "#gis = GIS()\n",
    "\n",
    "gis = GIS(\"https://msar.maps.arcgis.com\", \"MRA_Admin\") "
   ]
  },
  {
   "cell_type": "code",
   "execution_count": null,
   "id": "96dfadcf",
   "metadata": {},
   "outputs": [],
   "source": [
    "## Layer selection\n",
    "MRA_Main=\"ceea424c2f2149c38f1cb3be46653325\"\n",
    "MRA_Archive=\"26403d6ce684434eb22e0fe6f164bc45\"\n",
    "CALOES_Main=\"4fe1f4dd817c4f44a993c748e0080437\"\n",
    "\n",
    "LAYER_IDS=[\n",
    "#        MRA_Main,\n",
    "#        MRA_Archive,\n",
    "#        CALOES_Main,\n",
    "]\n",
    "\n",
    "# Contruct the testing structure <layers>\n",
    "layers = {}\n",
    "\n",
    "# <layer layer_id: ID >\n",
    "for layer_id in LAYER_IDS:\n",
    "    layers[layer_id] = {'FeatureLayer': gis.content.get(layer_id)}\n",
    "    \n",
    "    \n",
    "for idx,layer in layers.items():\n",
    "    layer['incidents']=layer['FeatureLayer'].layers[0]\n",
    "    layer['points_found'] = layer['FeatureLayer'].layers[1]"
   ]
  },
  {
   "cell_type": "code",
   "execution_count": null,
   "id": "23cbb46c",
   "metadata": {},
   "outputs": [],
   "source": [
    "#Select the FeatureSet\n",
    "\n",
    "SELECT=\"Date >= '2021-01-01 00:00:00' AND Date <= '2021-12-31 12:59:59'\"\n",
    "\n",
    "for idx,layer in layers.items():\n",
    "    layer['selected_incident_points']=layer['incidents'].query(where = SELECT)\n",
    "    #layer['selected_found_points']=layer['points_found].query(where=SELECT)\n",
    "    \n",
    "    "
   ]
  },
  {
   "cell_type": "code",
   "execution_count": null,
   "id": "ab1ad990",
   "metadata": {},
   "outputs": [],
   "source": [
    "# Run the tests\n",
    "extra_tests = {'check': lambda x: False}\n",
    "\n",
    "for idx,layer in layers.items():\n",
    "    layer['selected_incident_results'] = [_ for _ in check_incidents(layer['selected_incident_points'], external_incident_tests = extra_tests )]"
   ]
  },
  {
   "cell_type": "code",
   "execution_count": null,
   "id": "b7bf0b17",
   "metadata": {},
   "outputs": [],
   "source": [
    "layers"
   ]
  }
 ],
 "metadata": {
  "kernelspec": {
   "display_name": "Python 3 (ipykernel)",
   "language": "python",
   "name": "python3"
  },
  "language_info": {
   "codemirror_mode": {
    "name": "ipython",
    "version": 3
   },
   "file_extension": ".py",
   "mimetype": "text/x-python",
   "name": "python",
   "nbconvert_exporter": "python",
   "pygments_lexer": "ipython3",
   "version": "3.8.10"
  }
 },
 "nbformat": 4,
 "nbformat_minor": 5
}

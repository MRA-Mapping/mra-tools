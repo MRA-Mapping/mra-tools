{
 "cells": [
  {
   "cell_type": "markdown",
   "id": "ceb6f478",
   "metadata": {},
   "source": [
    "# MRA Quality Assurance Notebook \n",
    "\n",
    "Use this notebook to investigate a single layer or query\n",
    "\n",
    "Follow the steps below\n",
    "\n",
    "1. Select the layer and optional filter\n",
    "2. Login to ArcGIS\n",
    "3. Execute Test\n",
    "\n",
    "You can execute each step seperately or all-at-once using run-all"
   ]
  },
  {
   "cell_type": "markdown",
   "id": "ed214319",
   "metadata": {},
   "source": [
    "## Select the Layer and Optional SQL filter\n",
    "\n",
    "Use comments (\"#\") to select amongst the options or define your own"
   ]
  },
  {
   "cell_type": "code",
   "execution_count": null,
   "id": "37410112",
   "metadata": {},
   "outputs": [],
   "source": [
    "LAYER = \"ceea424c2f2149c38f1cb3be46653325\" # MRA Main\n",
    "FILTER = \"1=1\" # No Filter"
   ]
  },
  {
   "cell_type": "markdown",
   "id": "cb706593",
   "metadata": {},
   "source": [
    "## Login to ArcGIS"
   ]
  },
  {
   "cell_type": "code",
   "execution_count": null,
   "id": "890ebddf",
   "metadata": {},
   "outputs": [],
   "source": [
    "from arcgis.gis import GIS\n",
    "\n",
    "gis = GIS(\"https://msar.maps.arcgis.com\", \"MRA_Admin\") "
   ]
  },
  {
   "cell_type": "markdown",
   "id": "f2661c76",
   "metadata": {},
   "source": [
    "# Execute Tests"
   ]
  },
  {
   "cell_type": "code",
   "execution_count": null,
   "id": "baad8bd7",
   "metadata": {},
   "outputs": [],
   "source": [
    "from mratools import check_incidents, check_points"
   ]
  },
  {
   "cell_type": "code",
   "execution_count": null,
   "id": "9702d7df",
   "metadata": {},
   "outputs": [],
   "source": [
    "feature_layer = gis.content.get(LAYER)"
   ]
  },
  {
   "cell_type": "code",
   "execution_count": null,
   "id": "9011396f",
   "metadata": {},
   "outputs": [],
   "source": [
    "incidents = feature_layer.layers[0].query(where=FILTER) #Feature Set"
   ]
  },
  {
   "cell_type": "code",
   "execution_count": null,
   "id": "632cad1f",
   "metadata": {},
   "outputs": [],
   "source": [
    "points_found = feature_layer.layers[1].query(where=FILTER) #Feature Set"
   ]
  },
  {
   "cell_type": "code",
   "execution_count": null,
   "id": "d93ee225",
   "metadata": {},
   "outputs": [],
   "source": [
    "results_i = [_ for _ in check_incidents(incidents)]\n",
    "results_p = [_ for _ in check_points(points_found)]\n",
    "print (\"Incident Test Results: \", results_i)\n",
    "print (\"Points Test Results: \", results_p)"
   ]
  },
  {
   "cell_type": "markdown",
   "id": "051332ff",
   "metadata": {},
   "source": [
    "## Calculate Statistics"
   ]
  },
  {
   "cell_type": "code",
   "execution_count": null,
   "id": "3da5eabc",
   "metadata": {},
   "outputs": [],
   "source": [
    "uuids = []\n",
    "teams = {}\n",
    "geometries = {}\n",
    "dates = {}\n",
    "versions = {}\n",
    "\n",
    "for incident in incidents:\n",
    "    uuid = incident.get_value(\"Incident_UUID\")\n",
    "    team = incident.get_value(\"Team\")\n",
    "    date = incident.get_value(\"Incident_Date\") #in millisecond unix time\n",
    "    version = incident.get_value(\"Form_Version\")\n",
    "    \n",
    "    _geometry = incident.geometry \n",
    "    if _geometry is not None:\n",
    "        geometry = (_geometry['x'], _geometry['y'],)\n",
    "    else:\n",
    "        geometry = None\n",
    "    \n",
    "    if team not in teams:\n",
    "        teams[team] = []\n",
    "    \n",
    "    if geometry not in geometries:\n",
    "        geometries[geometry] = []\n",
    "        \n",
    "    if date not in dates:\n",
    "        dates[date] = []\n",
    "        \n",
    "    if version not in versions:\n",
    "        versions[version] = []\n",
    "        \n",
    "    teams.get(team).append(uuid)\n",
    "    geometries.get(geometry).append(uuid)\n",
    "    dates.get(date).append(uuid) \n",
    "    versions.get(version).append(uuid)\n",
    "    uuids.append(uuid)\n",
    "    "
   ]
  },
  {
   "cell_type": "markdown",
   "id": "25b92f71",
   "metadata": {},
   "source": [
    "# Results"
   ]
  },
  {
   "cell_type": "code",
   "execution_count": null,
   "id": "6697f52d",
   "metadata": {},
   "outputs": [],
   "source": [
    "PRINT_URL = True\n",
    "FORMAT_URL=\"https://msar.maps.arcgis.com/apps/webappviewer/index.html?id=2c16b6569d174d20a278e683f289658e&query=MRA%20Mission%20Data%20-%20653325%20(Current%20Year),Incident_UUID,\""
   ]
  },
  {
   "cell_type": "markdown",
   "id": "b947e503",
   "metadata": {},
   "source": [
    "## Null Incident ID"
   ]
  },
  {
   "cell_type": "code",
   "execution_count": null,
   "id": "4ecde4a6",
   "metadata": {},
   "outputs": [],
   "source": [
    "print(\"Null Incident UUIDs:\", None in uuids)"
   ]
  },
  {
   "cell_type": "markdown",
   "id": "e194d09d",
   "metadata": {},
   "source": [
    "## Duplicate Incident ID"
   ]
  },
  {
   "cell_type": "code",
   "execution_count": null,
   "id": "6f7b082b",
   "metadata": {},
   "outputs": [],
   "source": [
    "duplicates = {}\n",
    "for uuid in uuids:\n",
    "    if uuids.count(uuid)>1:\n",
    "        duplicates[uuid] = duplicates.get(uuid,0) + 1\n",
    "\n",
    "for k,v in duplicates.items():\n",
    "    print (\"Duplicate:\", k, \"Count:\", v)\n",
    "    if PRINT_URL: print(FORMAT_URL+k) \n",
    "    \n",
    "print(\"Total number of Duplicate Incidents\", sum(duplicates.values()))\n",
    "print(\"Unique number of Duplicate Incident_UUID's\", len(duplicates))"
   ]
  },
  {
   "cell_type": "markdown",
   "id": "e19c52e5",
   "metadata": {},
   "source": [
    "## Erroneous Geometries"
   ]
  },
  {
   "cell_type": "code",
   "execution_count": null,
   "id": "a7b62de6",
   "metadata": {
    "scrolled": true
   },
   "outputs": [],
   "source": [
    "n = 0\n",
    "for k,v in geometries.items():\n",
    "    if k is None or k [0] < -170 or k[0] > -20 or k[1] <5 or k[1] > 75 :\n",
    "        print (\"Point:\", k, \"Incidents:\", *v)#, \"\\n\")\n",
    "        if PRINT_URL: print (*[FORMAT_URL+_ for _ in v])\n",
    "        n = n+len(v)\n",
    "print(\"Total Number of Erroneous Geometries:\", n)"
   ]
  },
  {
   "cell_type": "markdown",
   "id": "b8ded46b",
   "metadata": {},
   "source": [
    "## Erroneous Dates"
   ]
  },
  {
   "cell_type": "code",
   "execution_count": null,
   "id": "1e8e0c43",
   "metadata": {},
   "outputs": [],
   "source": [
    "import datetime\n",
    "\n",
    "#for k,v in dates.items():\n",
    "#    print (k)\n",
    "#    print (k/1000)\n",
    "#    try:\n",
    "#        print(datetime.datetime.fromtimestamp(k/1000))\n",
    "#    except:\n",
    "#        print(\"error\")\n",
    "\n",
    "datetimes = {datetime.datetime.fromtimestamp(k/1000):v for k,v in dates.items()}\n",
    "datetimes = {k:datetimes[k] for k in sorted(datetimes,reverse = True)} \n",
    "\n",
    "n = 0\n",
    "for k,v in datetimes.items():\n",
    "    if k < datetime.datetime(2013,1,1) or k > datetime.datetime.now():\n",
    "        print(\"Date:\", k, \"Incidents:\", *v)#, \"\\n\") \n",
    "        if PRINT_URL: print (*[FORMAT_URL+_ for _ in v])\n",
    "        n = n+len(v)\n",
    "print(\"Total Erroneous Dates: \", n)\n",
    "#error_dates = {k:v for k,v in datetimes.items() if k < datetime.datetime(2013,1,1) or k > datetime.datetime.now()}"
   ]
  },
  {
   "cell_type": "markdown",
   "id": "6ef047d1",
   "metadata": {},
   "source": [
    "## Teams"
   ]
  },
  {
   "cell_type": "code",
   "execution_count": null,
   "id": "5039d32f",
   "metadata": {},
   "outputs": [],
   "source": [
    "t_v = {k:len(v) for k,v in teams.items()}\n",
    "sorted_teams = sorted(t_v, key=t_v.get, reverse=True)\n",
    "for team in sorted_teams:\n",
    "    print(\"Team:\", team, len(teams[team]))"
   ]
  },
  {
   "cell_type": "markdown",
   "id": "7a56941c",
   "metadata": {},
   "source": [
    "## Form Version"
   ]
  },
  {
   "cell_type": "code",
   "execution_count": null,
   "id": "78d3d2a0",
   "metadata": {},
   "outputs": [],
   "source": [
    "v_v = {k:len(v) for k,v in versions.items()}\n",
    "sorted_versions = sorted(v_v, key=v_v.get, reverse=True)\n",
    "for version in sorted_versions:\n",
    "    print(\"Version:\", version, len(versions[version]))"
   ]
  }
 ],
 "metadata": {
  "kernelspec": {
   "display_name": "Python 3 (ipykernel)",
   "language": "python",
   "name": "python3"
  },
  "language_info": {
   "codemirror_mode": {
    "name": "ipython",
    "version": 3
   },
   "file_extension": ".py",
   "mimetype": "text/x-python",
   "name": "python",
   "nbconvert_exporter": "python",
   "pygments_lexer": "ipython3",
   "version": "3.8.10"
  }
 },
 "nbformat": 4,
 "nbformat_minor": 5
}
